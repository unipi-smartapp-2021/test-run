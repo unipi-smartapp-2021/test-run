{
 "cells": [
  {
   "cell_type": "markdown",
   "metadata": {},
   "source": [
    "# How to use\n"
   ]
  },
  {
   "cell_type": "markdown",
   "metadata": {},
   "source": [
    "## Import"
   ]
  },
  {
   "cell_type": "markdown",
   "metadata": {},
   "source": [
    "Let us first import all the necessary for this tutorial:"
   ]
  },
  {
   "cell_type": "code",
   "execution_count": 1,
   "metadata": {},
   "outputs": [],
   "source": [
    "from Trajectory import MidTrajectory \n",
    "import RiskFunctions as risk_fun"
   ]
  },
  {
   "cell_type": "markdown",
   "metadata": {},
   "source": [
    "- **Trajectory** contains the classes and the methods that compute the path the car should follow during the race. MidTrajectory is, for now, the only implemented algorithm.\n",
    "- **RiskFunction** contains a set of function used to compute the risk of the generated plan. "
   ]
  },
  {
   "cell_type": "code",
   "execution_count": 2,
   "metadata": {},
   "outputs": [],
   "source": [
    "from GraphicUtility import plot_track_map, plot_trajectory, end_plotting\n",
    "from Utils import euclidean_distance_no_sqrt, serialize_to_file"
   ]
  },
  {
   "cell_type": "markdown",
   "metadata": {},
   "source": [
    "* **GraphicsUtility** contains methods to visualize the track or the trajectory in a scatter plot.\n",
    "* **Utils** contains several methods such as the euclidean distance or the computation of the spline."
   ]
  },
  {
   "cell_type": "code",
   "execution_count": 3,
   "metadata": {},
   "outputs": [],
   "source": [
    "from TrackMap import TrackMap"
   ]
  },
  {
   "cell_type": "markdown",
   "metadata": {},
   "source": [
    "* **TrackMap** contains the class that represents a track map."
   ]
  },
  {
   "cell_type": "code",
   "execution_count": 4,
   "metadata": {},
   "outputs": [],
   "source": [
    "from ROSInterface import trajectory_to_ros"
   ]
  },
  {
   "cell_type": "markdown",
   "metadata": {},
   "source": [
    "* **trajectory_to_ros** is used to transform the internal representation of a trajectory into something we can send through a ROS message."
   ]
  },
  {
   "cell_type": "markdown",
   "metadata": {},
   "source": [
    "## Load the Track"
   ]
  },
  {
   "cell_type": "markdown",
   "metadata": {},
   "source": [
    "To load the track we will utilize the ```load_track``` function provided by the ```TrackMap``` class. This method will load a track from a JSON file. You can create your own track by using our tool for the generation of tracks (see readme in create_custom_track). Our tracks are saved in ```./tests/tracks```. For the example, we will use the TarascoRace track."
   ]
  },
  {
   "cell_type": "code",
   "execution_count": 5,
   "metadata": {},
   "outputs": [],
   "source": [
    "trackMap = TrackMap()\n",
    "trackMap.load_track('./tests/tracks/TarascoRace.json')"
   ]
  },
  {
   "cell_type": "markdown",
   "metadata": {},
   "source": [
    "## Compute the Trajectory"
   ]
  },
  {
   "cell_type": "markdown",
   "metadata": {},
   "source": [
    "To compute the path, we will create a ```MidTrajectory``` object and then use its ```compute_trajectory``` method to obtain a list of ```PlanStep```. Each ```PlanStep``` contains the position and the expected velocity in that position. However, notice that compute_trajectory will output only PlanStep with velocities equal to zero. Below, we show an example of Plan Step."
   ]
  },
  {
   "cell_type": "code",
   "execution_count": 6,
   "metadata": {},
   "outputs": [
    {
     "name": "stdout",
     "output_type": "stream",
     "text": [
      "PlanStep(position=(225.304, 306.768), velocity=0, velocity_vector=[])\n"
     ]
    }
   ],
   "source": [
    "#create MidTrajectory object\n",
    "trajectory = MidTrajectory(distance_fun=euclidean_distance_no_sqrt)\n",
    "#compute the trajectory\n",
    "trajectory.compute_trajectory(trackMap)\n",
    "#print the first plan step\n",
    "print(trajectory.get_trajectory()[0])"
   ]
  },
  {
   "cell_type": "markdown",
   "metadata": {},
   "source": [
    "Next, we have to define the risk of the trajectory. The higher the risk, the risker the trajectory will be. For the example, we will merely put a constant risk constant, but notice that the LTP will update this risk during the race according to several parameters such as the weather. \n",
    "To set the risk, we have to call the ```set_risk``` function. Notice that we may use the method as follows:"
   ]
  },
  {
   "cell_type": "code",
   "execution_count": 7,
   "metadata": {},
   "outputs": [
    {
     "name": "stdout",
     "output_type": "stream",
     "text": [
      "1\n"
     ]
    }
   ],
   "source": [
    "trajectory.set_risk(1)\n",
    "print(trajectory.current_risk)"
   ]
  },
  {
   "cell_type": "markdown",
   "metadata": {},
   "source": [
    "However, it is not correct because the risk should always be between the constant MIN_RISK and MAX_RISK defined in CarConstants:"
   ]
  },
  {
   "cell_type": "code",
   "execution_count": 8,
   "metadata": {},
   "outputs": [
    {
     "name": "stdout",
     "output_type": "stream",
     "text": [
      "0.1 0.9\n"
     ]
    }
   ],
   "source": [
    "from CarConstants import MIN_RISK, MAX_RISK\n",
    "print(MIN_RISK, MAX_RISK)"
   ]
  },
  {
   "cell_type": "markdown",
   "metadata": {},
   "source": [
    "So, if you just need to put a constant, use the constant function defined in RiskFunction that takes into account these two constants:"
   ]
  },
  {
   "cell_type": "code",
   "execution_count": 9,
   "metadata": {},
   "outputs": [
    {
     "name": "stdout",
     "output_type": "stream",
     "text": [
      "0.9\n"
     ]
    }
   ],
   "source": [
    "trajectory.set_risk(risk_fun.constant(1, MIN_RISK, MAX_RISK))\n",
    "print(trajectory.current_risk)"
   ]
  },
  {
   "cell_type": "markdown",
   "metadata": {},
   "source": [
    "Notice that without setting a risk, the trajectory will assume the minimum risk, and therefore the resulting plan will be the safest one. "
   ]
  },
  {
   "cell_type": "markdown",
   "metadata": {},
   "source": [
    "Eventually, we compute the velocities using the ```compute_velocities``` method:"
   ]
  },
  {
   "cell_type": "code",
   "execution_count": 11,
   "metadata": {},
   "outputs": [],
   "source": [
    "%%capture\n",
    "trajectory.compute_velocities()"
   ]
  },
  {
   "cell_type": "markdown",
   "metadata": {},
   "source": [
    "As you can read, now the velocity is not zero anymore:"
   ]
  },
  {
   "cell_type": "code",
   "execution_count": 12,
   "metadata": {},
   "outputs": [
    {
     "name": "stdout",
     "output_type": "stream",
     "text": [
      "PlanStep(position=(225.304, 306.768), velocity=18.3, velocity_vector=(-0.4944140526668625, -18.29331994867322))\n"
     ]
    }
   ],
   "source": [
    "#print the first plan step\n",
    "print(trajectory.get_trajectory()[0])"
   ]
  },
  {
   "cell_type": "markdown",
   "metadata": {},
   "source": [
    "The trajectory can be transformed into something acceptable by ROS using ```trajetory_to_ros```:"
   ]
  },
  {
   "cell_type": "code",
   "execution_count": 13,
   "metadata": {},
   "outputs": [],
   "source": [
    "from typing import List, Tuple\n",
    "#ros_trajectory type\n",
    "ros_trajectory : Tuple[List[float], List[float], List[float], List[float]] = ()\n",
    "ros_trajectory = trajectory_to_ros(trajectory)"
   ]
  },
  {
   "cell_type": "markdown",
   "metadata": {},
   "source": [
    "The ros_trajectory is a tuple that contains four lists:\n",
    "* the positions of the path along the x-axis\n",
    "* the locations of the path along the y-axis\n",
    "* the x component of the velocity vector\n",
    "* the y component of the velocity vector."
   ]
  },
  {
   "cell_type": "markdown",
   "metadata": {},
   "source": [
    "## Plot the plan and the track"
   ]
  },
  {
   "cell_type": "markdown",
   "metadata": {},
   "source": [
    "Using the methods defined in ```GraphicsUtility``` we can visualize the track and the plan: "
   ]
  },
  {
   "cell_type": "code",
   "execution_count": 14,
   "metadata": {},
   "outputs": [
    {
     "data": {
      "image/png": "[encoded data removed]",
      "text/plain": [
       "<Figure size 432x288 with 2 Axes>"
      ]
     },
     "metadata": {
      "needs_background": "light"
     },
     "output_type": "display_data"
    }
   ],
   "source": [
    "plot_track_map(trackMap, new_figure=True)\n",
    "plot_trajectory(trajectory.get_trajectory(), new_figure=False)\n",
    "end_plotting()"
   ]
  }
 ],
 "metadata": {
  "interpreter": {
   "hash": "adc9bb8b32507af041d48f79beff297e5596f2d08c3fa998d68427d7acb13fb8"
  },
  "kernelspec": {
   "display_name": "Python 3.9.0 64-bit",
   "language": "python",
   "name": "python3"
  },
  "language_info": {
   "codemirror_mode": {
    "name": "ipython",
    "version": 3
   },
   "file_extension": ".py",
   "mimetype": "text/x-python",
   "name": "python",
   "nbconvert_exporter": "python",
   "pygments_lexer": "ipython3",
   "version": "3.9.0"
  },
  "orig_nbformat": 4
 },
 "nbformat": 4,
 "nbformat_minor": 2
}
